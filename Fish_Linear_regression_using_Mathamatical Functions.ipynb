{
  "nbformat": 4,
  "nbformat_minor": 0,
  "metadata": {
    "colab": {
      "name": "Fish Linear regression.ipynb",
      "provenance": []
    },
    "kernelspec": {
      "name": "python3",
      "display_name": "Python 3"
    }
  },
  "cells": [
    {
      "cell_type": "markdown",
      "metadata": {
        "id": "HUx6VxE7yOrT"
      },
      "source": [
        "##1. Mounting gdrive"
      ]
    },
    {
      "cell_type": "code",
      "metadata": {
        "id": "NDDtVXcsw0bT",
        "colab": {
          "base_uri": "https://localhost:8080/",
          "height": 34
        },
        "outputId": "8b84f405-0fdb-4d97-9f1d-850ee8524c11"
      },
      "source": [
        "from google.colab import drive\n",
        "drive.mount('/gdrive')"
      ],
      "execution_count": null,
      "outputs": [
        {
          "output_type": "stream",
          "text": [
            "Drive already mounted at /gdrive; to attempt to forcibly remount, call drive.mount(\"/gdrive\", force_remount=True).\n"
          ],
          "name": "stdout"
        }
      ]
    },
    {
      "cell_type": "markdown",
      "metadata": {
        "id": "Z8Nep5YQyZ9o"
      },
      "source": [
        "##2. Importing Libraries"
      ]
    },
    {
      "cell_type": "code",
      "metadata": {
        "id": "rSRXbftgyg7N"
      },
      "source": [
        "import numpy as np # mathematical calculations\n",
        "import pandas as pd # manipulating raw data\n",
        "import matplotlib.pyplot as plt # ploting graphs for data visualisation\n",
        "%matplotlib inline  "
      ],
      "execution_count": null,
      "outputs": []
    },
    {
      "cell_type": "code",
      "metadata": {
        "id": "ogA031BEzzYo"
      },
      "source": [
        "path = '/gdrive/My Drive/ML1 Course1 Sept 2020/Data/'"
      ],
      "execution_count": null,
      "outputs": []
    },
    {
      "cell_type": "code",
      "metadata": {
        "id": "P7iM9TzN0w7t"
      },
      "source": [
        "raw_data = pd.read_csv(path + 'Fish.csv')"
      ],
      "execution_count": null,
      "outputs": []
    },
    {
      "cell_type": "code",
      "metadata": {
        "id": "0_BzHwvH6Yu5",
        "colab": {
          "base_uri": "https://localhost:8080/",
          "height": 195
        },
        "outputId": "092706ff-058d-4187-809d-8a8669c2b911"
      },
      "source": [
        "raw_data.head()"
      ],
      "execution_count": null,
      "outputs": [
        {
          "output_type": "execute_result",
          "data": {
            "text/html": [
              "<div>\n",
              "<style scoped>\n",
              "    .dataframe tbody tr th:only-of-type {\n",
              "        vertical-align: middle;\n",
              "    }\n",
              "\n",
              "    .dataframe tbody tr th {\n",
              "        vertical-align: top;\n",
              "    }\n",
              "\n",
              "    .dataframe thead th {\n",
              "        text-align: right;\n",
              "    }\n",
              "</style>\n",
              "<table border=\"1\" class=\"dataframe\">\n",
              "  <thead>\n",
              "    <tr style=\"text-align: right;\">\n",
              "      <th></th>\n",
              "      <th>Species</th>\n",
              "      <th>Weight</th>\n",
              "      <th>Length1</th>\n",
              "      <th>Length2</th>\n",
              "      <th>Length3</th>\n",
              "      <th>Height</th>\n",
              "      <th>Width</th>\n",
              "    </tr>\n",
              "  </thead>\n",
              "  <tbody>\n",
              "    <tr>\n",
              "      <th>0</th>\n",
              "      <td>Bream</td>\n",
              "      <td>242.0</td>\n",
              "      <td>23.2</td>\n",
              "      <td>25.4</td>\n",
              "      <td>30.0</td>\n",
              "      <td>11.5200</td>\n",
              "      <td>4.0200</td>\n",
              "    </tr>\n",
              "    <tr>\n",
              "      <th>1</th>\n",
              "      <td>Bream</td>\n",
              "      <td>290.0</td>\n",
              "      <td>24.0</td>\n",
              "      <td>26.3</td>\n",
              "      <td>31.2</td>\n",
              "      <td>12.4800</td>\n",
              "      <td>4.3056</td>\n",
              "    </tr>\n",
              "    <tr>\n",
              "      <th>2</th>\n",
              "      <td>Bream</td>\n",
              "      <td>340.0</td>\n",
              "      <td>23.9</td>\n",
              "      <td>26.5</td>\n",
              "      <td>31.1</td>\n",
              "      <td>12.3778</td>\n",
              "      <td>4.6961</td>\n",
              "    </tr>\n",
              "    <tr>\n",
              "      <th>3</th>\n",
              "      <td>Bream</td>\n",
              "      <td>363.0</td>\n",
              "      <td>26.3</td>\n",
              "      <td>29.0</td>\n",
              "      <td>33.5</td>\n",
              "      <td>12.7300</td>\n",
              "      <td>4.4555</td>\n",
              "    </tr>\n",
              "    <tr>\n",
              "      <th>4</th>\n",
              "      <td>Bream</td>\n",
              "      <td>430.0</td>\n",
              "      <td>26.5</td>\n",
              "      <td>29.0</td>\n",
              "      <td>34.0</td>\n",
              "      <td>12.4440</td>\n",
              "      <td>5.1340</td>\n",
              "    </tr>\n",
              "  </tbody>\n",
              "</table>\n",
              "</div>"
            ],
            "text/plain": [
              "  Species  Weight  Length1  Length2  Length3   Height   Width\n",
              "0   Bream   242.0     23.2     25.4     30.0  11.5200  4.0200\n",
              "1   Bream   290.0     24.0     26.3     31.2  12.4800  4.3056\n",
              "2   Bream   340.0     23.9     26.5     31.1  12.3778  4.6961\n",
              "3   Bream   363.0     26.3     29.0     33.5  12.7300  4.4555\n",
              "4   Bream   430.0     26.5     29.0     34.0  12.4440  5.1340"
            ]
          },
          "metadata": {
            "tags": []
          },
          "execution_count": 30
        }
      ]
    },
    {
      "cell_type": "code",
      "metadata": {
        "id": "AWocr2_06lue",
        "colab": {
          "base_uri": "https://localhost:8080/",
          "height": 225
        },
        "outputId": "99be5fe9-df83-49e3-994f-e32e8886cde4"
      },
      "source": [
        "raw_data.tail(6)"
      ],
      "execution_count": null,
      "outputs": [
        {
          "output_type": "execute_result",
          "data": {
            "text/html": [
              "<div>\n",
              "<style scoped>\n",
              "    .dataframe tbody tr th:only-of-type {\n",
              "        vertical-align: middle;\n",
              "    }\n",
              "\n",
              "    .dataframe tbody tr th {\n",
              "        vertical-align: top;\n",
              "    }\n",
              "\n",
              "    .dataframe thead th {\n",
              "        text-align: right;\n",
              "    }\n",
              "</style>\n",
              "<table border=\"1\" class=\"dataframe\">\n",
              "  <thead>\n",
              "    <tr style=\"text-align: right;\">\n",
              "      <th></th>\n",
              "      <th>Species</th>\n",
              "      <th>Weight</th>\n",
              "      <th>Length1</th>\n",
              "      <th>Length2</th>\n",
              "      <th>Length3</th>\n",
              "      <th>Height</th>\n",
              "      <th>Width</th>\n",
              "    </tr>\n",
              "  </thead>\n",
              "  <tbody>\n",
              "    <tr>\n",
              "      <th>153</th>\n",
              "      <td>Smelt</td>\n",
              "      <td>9.8</td>\n",
              "      <td>11.4</td>\n",
              "      <td>12.0</td>\n",
              "      <td>13.2</td>\n",
              "      <td>2.2044</td>\n",
              "      <td>1.1484</td>\n",
              "    </tr>\n",
              "    <tr>\n",
              "      <th>154</th>\n",
              "      <td>Smelt</td>\n",
              "      <td>12.2</td>\n",
              "      <td>11.5</td>\n",
              "      <td>12.2</td>\n",
              "      <td>13.4</td>\n",
              "      <td>2.0904</td>\n",
              "      <td>1.3936</td>\n",
              "    </tr>\n",
              "    <tr>\n",
              "      <th>155</th>\n",
              "      <td>Smelt</td>\n",
              "      <td>13.4</td>\n",
              "      <td>11.7</td>\n",
              "      <td>12.4</td>\n",
              "      <td>13.5</td>\n",
              "      <td>2.4300</td>\n",
              "      <td>1.2690</td>\n",
              "    </tr>\n",
              "    <tr>\n",
              "      <th>156</th>\n",
              "      <td>Smelt</td>\n",
              "      <td>12.2</td>\n",
              "      <td>12.1</td>\n",
              "      <td>13.0</td>\n",
              "      <td>13.8</td>\n",
              "      <td>2.2770</td>\n",
              "      <td>1.2558</td>\n",
              "    </tr>\n",
              "    <tr>\n",
              "      <th>157</th>\n",
              "      <td>Smelt</td>\n",
              "      <td>19.7</td>\n",
              "      <td>13.2</td>\n",
              "      <td>14.3</td>\n",
              "      <td>15.2</td>\n",
              "      <td>2.8728</td>\n",
              "      <td>2.0672</td>\n",
              "    </tr>\n",
              "    <tr>\n",
              "      <th>158</th>\n",
              "      <td>Smelt</td>\n",
              "      <td>19.9</td>\n",
              "      <td>13.8</td>\n",
              "      <td>15.0</td>\n",
              "      <td>16.2</td>\n",
              "      <td>2.9322</td>\n",
              "      <td>1.8792</td>\n",
              "    </tr>\n",
              "  </tbody>\n",
              "</table>\n",
              "</div>"
            ],
            "text/plain": [
              "    Species  Weight  Length1  Length2  Length3  Height   Width\n",
              "153   Smelt     9.8     11.4     12.0     13.2  2.2044  1.1484\n",
              "154   Smelt    12.2     11.5     12.2     13.4  2.0904  1.3936\n",
              "155   Smelt    13.4     11.7     12.4     13.5  2.4300  1.2690\n",
              "156   Smelt    12.2     12.1     13.0     13.8  2.2770  1.2558\n",
              "157   Smelt    19.7     13.2     14.3     15.2  2.8728  2.0672\n",
              "158   Smelt    19.9     13.8     15.0     16.2  2.9322  1.8792"
            ]
          },
          "metadata": {
            "tags": []
          },
          "execution_count": 31
        }
      ]
    },
    {
      "cell_type": "markdown",
      "metadata": {
        "id": "omRBEVpw7Kxb"
      },
      "source": [
        "##3. Encoding text categorical data"
      ]
    },
    {
      "cell_type": "code",
      "metadata": {
        "id": "ZAgSvreo6udV"
      },
      "source": [
        "from sklearn.preprocessing import LabelEncoder\n",
        "# area,sale_cond etc are character so convert it to numbers \n",
        "\n",
        "Species_labelencoder = LabelEncoder()\n",
        "raw_data['Species'] = Species_labelencoder.fit_transform(raw_data['Species'])"
      ],
      "execution_count": null,
      "outputs": []
    },
    {
      "cell_type": "code",
      "metadata": {
        "id": "oQn0acem9JHL",
        "colab": {
          "base_uri": "https://localhost:8080/",
          "height": 343
        },
        "outputId": "47e65db1-aa04-4cae-9018-4b8711e23edf"
      },
      "source": [
        "raw_data.tail(10)"
      ],
      "execution_count": null,
      "outputs": [
        {
          "output_type": "execute_result",
          "data": {
            "text/html": [
              "<div>\n",
              "<style scoped>\n",
              "    .dataframe tbody tr th:only-of-type {\n",
              "        vertical-align: middle;\n",
              "    }\n",
              "\n",
              "    .dataframe tbody tr th {\n",
              "        vertical-align: top;\n",
              "    }\n",
              "\n",
              "    .dataframe thead th {\n",
              "        text-align: right;\n",
              "    }\n",
              "</style>\n",
              "<table border=\"1\" class=\"dataframe\">\n",
              "  <thead>\n",
              "    <tr style=\"text-align: right;\">\n",
              "      <th></th>\n",
              "      <th>Species</th>\n",
              "      <th>Weight</th>\n",
              "      <th>Length1</th>\n",
              "      <th>Length2</th>\n",
              "      <th>Length3</th>\n",
              "      <th>Height</th>\n",
              "      <th>Width</th>\n",
              "    </tr>\n",
              "  </thead>\n",
              "  <tbody>\n",
              "    <tr>\n",
              "      <th>149</th>\n",
              "      <td>5</td>\n",
              "      <td>9.8</td>\n",
              "      <td>10.7</td>\n",
              "      <td>11.2</td>\n",
              "      <td>12.4</td>\n",
              "      <td>2.0832</td>\n",
              "      <td>1.2772</td>\n",
              "    </tr>\n",
              "    <tr>\n",
              "      <th>150</th>\n",
              "      <td>5</td>\n",
              "      <td>8.7</td>\n",
              "      <td>10.8</td>\n",
              "      <td>11.3</td>\n",
              "      <td>12.6</td>\n",
              "      <td>1.9782</td>\n",
              "      <td>1.2852</td>\n",
              "    </tr>\n",
              "    <tr>\n",
              "      <th>151</th>\n",
              "      <td>5</td>\n",
              "      <td>10.0</td>\n",
              "      <td>11.3</td>\n",
              "      <td>11.8</td>\n",
              "      <td>13.1</td>\n",
              "      <td>2.2139</td>\n",
              "      <td>1.2838</td>\n",
              "    </tr>\n",
              "    <tr>\n",
              "      <th>152</th>\n",
              "      <td>5</td>\n",
              "      <td>9.9</td>\n",
              "      <td>11.3</td>\n",
              "      <td>11.8</td>\n",
              "      <td>13.1</td>\n",
              "      <td>2.2139</td>\n",
              "      <td>1.1659</td>\n",
              "    </tr>\n",
              "    <tr>\n",
              "      <th>153</th>\n",
              "      <td>5</td>\n",
              "      <td>9.8</td>\n",
              "      <td>11.4</td>\n",
              "      <td>12.0</td>\n",
              "      <td>13.2</td>\n",
              "      <td>2.2044</td>\n",
              "      <td>1.1484</td>\n",
              "    </tr>\n",
              "    <tr>\n",
              "      <th>154</th>\n",
              "      <td>5</td>\n",
              "      <td>12.2</td>\n",
              "      <td>11.5</td>\n",
              "      <td>12.2</td>\n",
              "      <td>13.4</td>\n",
              "      <td>2.0904</td>\n",
              "      <td>1.3936</td>\n",
              "    </tr>\n",
              "    <tr>\n",
              "      <th>155</th>\n",
              "      <td>5</td>\n",
              "      <td>13.4</td>\n",
              "      <td>11.7</td>\n",
              "      <td>12.4</td>\n",
              "      <td>13.5</td>\n",
              "      <td>2.4300</td>\n",
              "      <td>1.2690</td>\n",
              "    </tr>\n",
              "    <tr>\n",
              "      <th>156</th>\n",
              "      <td>5</td>\n",
              "      <td>12.2</td>\n",
              "      <td>12.1</td>\n",
              "      <td>13.0</td>\n",
              "      <td>13.8</td>\n",
              "      <td>2.2770</td>\n",
              "      <td>1.2558</td>\n",
              "    </tr>\n",
              "    <tr>\n",
              "      <th>157</th>\n",
              "      <td>5</td>\n",
              "      <td>19.7</td>\n",
              "      <td>13.2</td>\n",
              "      <td>14.3</td>\n",
              "      <td>15.2</td>\n",
              "      <td>2.8728</td>\n",
              "      <td>2.0672</td>\n",
              "    </tr>\n",
              "    <tr>\n",
              "      <th>158</th>\n",
              "      <td>5</td>\n",
              "      <td>19.9</td>\n",
              "      <td>13.8</td>\n",
              "      <td>15.0</td>\n",
              "      <td>16.2</td>\n",
              "      <td>2.9322</td>\n",
              "      <td>1.8792</td>\n",
              "    </tr>\n",
              "  </tbody>\n",
              "</table>\n",
              "</div>"
            ],
            "text/plain": [
              "     Species  Weight  Length1  Length2  Length3  Height   Width\n",
              "149        5     9.8     10.7     11.2     12.4  2.0832  1.2772\n",
              "150        5     8.7     10.8     11.3     12.6  1.9782  1.2852\n",
              "151        5    10.0     11.3     11.8     13.1  2.2139  1.2838\n",
              "152        5     9.9     11.3     11.8     13.1  2.2139  1.1659\n",
              "153        5     9.8     11.4     12.0     13.2  2.2044  1.1484\n",
              "154        5    12.2     11.5     12.2     13.4  2.0904  1.3936\n",
              "155        5    13.4     11.7     12.4     13.5  2.4300  1.2690\n",
              "156        5    12.2     12.1     13.0     13.8  2.2770  1.2558\n",
              "157        5    19.7     13.2     14.3     15.2  2.8728  2.0672\n",
              "158        5    19.9     13.8     15.0     16.2  2.9322  1.8792"
            ]
          },
          "metadata": {
            "tags": []
          },
          "execution_count": 33
        }
      ]
    },
    {
      "cell_type": "markdown",
      "metadata": {
        "id": "ui2-4DVF-EKx"
      },
      "source": [
        "##4. Feature Scaling"
      ]
    },
    {
      "cell_type": "code",
      "metadata": {
        "id": "Lg2Ecj6g-CUx"
      },
      "source": [
        "data = (raw_data - raw_data.mean())/(raw_data.max() - raw_data.min())"
      ],
      "execution_count": null,
      "outputs": []
    },
    {
      "cell_type": "code",
      "metadata": {
        "id": "JuKtUne4DtaN",
        "colab": {
          "base_uri": "https://localhost:8080/",
          "height": 195
        },
        "outputId": "363982de-4bf5-44b5-ed4b-f755676e958e"
      },
      "source": [
        "data.head()"
      ],
      "execution_count": null,
      "outputs": [
        {
          "output_type": "execute_result",
          "data": {
            "text/html": [
              "<div>\n",
              "<style scoped>\n",
              "    .dataframe tbody tr th:only-of-type {\n",
              "        vertical-align: middle;\n",
              "    }\n",
              "\n",
              "    .dataframe tbody tr th {\n",
              "        vertical-align: top;\n",
              "    }\n",
              "\n",
              "    .dataframe thead th {\n",
              "        text-align: right;\n",
              "    }\n",
              "</style>\n",
              "<table border=\"1\" class=\"dataframe\">\n",
              "  <thead>\n",
              "    <tr style=\"text-align: right;\">\n",
              "      <th></th>\n",
              "      <th>Species</th>\n",
              "      <th>Weight</th>\n",
              "      <th>Length1</th>\n",
              "      <th>Length2</th>\n",
              "      <th>Length3</th>\n",
              "      <th>Height</th>\n",
              "      <th>Width</th>\n",
              "    </tr>\n",
              "  </thead>\n",
              "  <tbody>\n",
              "    <tr>\n",
              "      <th>0</th>\n",
              "      <td>-0.377358</td>\n",
              "      <td>-0.094743</td>\n",
              "      <td>-0.059168</td>\n",
              "      <td>-0.054831</td>\n",
              "      <td>-0.020727</td>\n",
              "      <td>0.147952</td>\n",
              "      <td>-0.056028</td>\n",
              "    </tr>\n",
              "    <tr>\n",
              "      <th>1</th>\n",
              "      <td>-0.377358</td>\n",
              "      <td>-0.065652</td>\n",
              "      <td>-0.043634</td>\n",
              "      <td>-0.038468</td>\n",
              "      <td>-0.000457</td>\n",
              "      <td>0.203673</td>\n",
              "      <td>-0.015771</td>\n",
              "    </tr>\n",
              "    <tr>\n",
              "      <th>2</th>\n",
              "      <td>-0.377358</td>\n",
              "      <td>-0.035349</td>\n",
              "      <td>-0.045576</td>\n",
              "      <td>-0.034831</td>\n",
              "      <td>-0.002146</td>\n",
              "      <td>0.197741</td>\n",
              "      <td>0.039272</td>\n",
              "    </tr>\n",
              "    <tr>\n",
              "      <th>3</th>\n",
              "      <td>-0.377358</td>\n",
              "      <td>-0.021410</td>\n",
              "      <td>0.001026</td>\n",
              "      <td>0.010623</td>\n",
              "      <td>0.038395</td>\n",
              "      <td>0.218184</td>\n",
              "      <td>0.005358</td>\n",
              "    </tr>\n",
              "    <tr>\n",
              "      <th>4</th>\n",
              "      <td>-0.377358</td>\n",
              "      <td>0.019196</td>\n",
              "      <td>0.004909</td>\n",
              "      <td>0.010623</td>\n",
              "      <td>0.046840</td>\n",
              "      <td>0.201584</td>\n",
              "      <td>0.100997</td>\n",
              "    </tr>\n",
              "  </tbody>\n",
              "</table>\n",
              "</div>"
            ],
            "text/plain": [
              "    Species    Weight   Length1   Length2   Length3    Height     Width\n",
              "0 -0.377358 -0.094743 -0.059168 -0.054831 -0.020727  0.147952 -0.056028\n",
              "1 -0.377358 -0.065652 -0.043634 -0.038468 -0.000457  0.203673 -0.015771\n",
              "2 -0.377358 -0.035349 -0.045576 -0.034831 -0.002146  0.197741  0.039272\n",
              "3 -0.377358 -0.021410  0.001026  0.010623  0.038395  0.218184  0.005358\n",
              "4 -0.377358  0.019196  0.004909  0.010623  0.046840  0.201584  0.100997"
            ]
          },
          "metadata": {
            "tags": []
          },
          "execution_count": 35
        }
      ]
    },
    {
      "cell_type": "code",
      "metadata": {
        "id": "3Z5xcP80Dvyl",
        "colab": {
          "base_uri": "https://localhost:8080/",
          "height": 195
        },
        "outputId": "976b509b-5c11-4d66-9953-0a9a11ccdcdc"
      },
      "source": [
        "data.tail()"
      ],
      "execution_count": null,
      "outputs": [
        {
          "output_type": "execute_result",
          "data": {
            "text/html": [
              "<div>\n",
              "<style scoped>\n",
              "    .dataframe tbody tr th:only-of-type {\n",
              "        vertical-align: middle;\n",
              "    }\n",
              "\n",
              "    .dataframe tbody tr th {\n",
              "        vertical-align: top;\n",
              "    }\n",
              "\n",
              "    .dataframe thead th {\n",
              "        text-align: right;\n",
              "    }\n",
              "</style>\n",
              "<table border=\"1\" class=\"dataframe\">\n",
              "  <thead>\n",
              "    <tr style=\"text-align: right;\">\n",
              "      <th></th>\n",
              "      <th>Species</th>\n",
              "      <th>Weight</th>\n",
              "      <th>Length1</th>\n",
              "      <th>Length2</th>\n",
              "      <th>Length3</th>\n",
              "      <th>Height</th>\n",
              "      <th>Width</th>\n",
              "    </tr>\n",
              "  </thead>\n",
              "  <tbody>\n",
              "    <tr>\n",
              "      <th>154</th>\n",
              "      <td>0.455975</td>\n",
              "      <td>-0.234016</td>\n",
              "      <td>-0.286353</td>\n",
              "      <td>-0.294831</td>\n",
              "      <td>-0.301133</td>\n",
              "      <td>-0.399370</td>\n",
              "      <td>-0.426236</td>\n",
              "    </tr>\n",
              "    <tr>\n",
              "      <th>155</th>\n",
              "      <td>0.455975</td>\n",
              "      <td>-0.233289</td>\n",
              "      <td>-0.282469</td>\n",
              "      <td>-0.291195</td>\n",
              "      <td>-0.299443</td>\n",
              "      <td>-0.379659</td>\n",
              "      <td>-0.443799</td>\n",
              "    </tr>\n",
              "    <tr>\n",
              "      <th>156</th>\n",
              "      <td>0.455975</td>\n",
              "      <td>-0.234016</td>\n",
              "      <td>-0.274702</td>\n",
              "      <td>-0.280286</td>\n",
              "      <td>-0.294376</td>\n",
              "      <td>-0.388540</td>\n",
              "      <td>-0.445659</td>\n",
              "    </tr>\n",
              "    <tr>\n",
              "      <th>157</th>\n",
              "      <td>0.455975</td>\n",
              "      <td>-0.229471</td>\n",
              "      <td>-0.253343</td>\n",
              "      <td>-0.256650</td>\n",
              "      <td>-0.270727</td>\n",
              "      <td>-0.353958</td>\n",
              "      <td>-0.331287</td>\n",
              "    </tr>\n",
              "    <tr>\n",
              "      <th>158</th>\n",
              "      <td>0.455975</td>\n",
              "      <td>-0.229349</td>\n",
              "      <td>-0.241693</td>\n",
              "      <td>-0.243922</td>\n",
              "      <td>-0.253835</td>\n",
              "      <td>-0.350510</td>\n",
              "      <td>-0.357787</td>\n",
              "    </tr>\n",
              "  </tbody>\n",
              "</table>\n",
              "</div>"
            ],
            "text/plain": [
              "      Species    Weight   Length1   Length2   Length3    Height     Width\n",
              "154  0.455975 -0.234016 -0.286353 -0.294831 -0.301133 -0.399370 -0.426236\n",
              "155  0.455975 -0.233289 -0.282469 -0.291195 -0.299443 -0.379659 -0.443799\n",
              "156  0.455975 -0.234016 -0.274702 -0.280286 -0.294376 -0.388540 -0.445659\n",
              "157  0.455975 -0.229471 -0.253343 -0.256650 -0.270727 -0.353958 -0.331287\n",
              "158  0.455975 -0.229349 -0.241693 -0.243922 -0.253835 -0.350510 -0.357787"
            ]
          },
          "metadata": {
            "tags": []
          },
          "execution_count": 36
        }
      ]
    },
    {
      "cell_type": "markdown",
      "metadata": {
        "id": "SvQ32UW8E5ZU"
      },
      "source": [
        "##5. Sperate X and Y"
      ]
    },
    {
      "cell_type": "code",
      "metadata": {
        "id": "2-0vPWp2D3lN"
      },
      "source": [
        "X = data.drop(columns = ['Weight'])\n",
        "Y = data.iloc[:, 1:2]  # y = data[\"Weight\"]"
      ],
      "execution_count": null,
      "outputs": []
    },
    {
      "cell_type": "markdown",
      "metadata": {
        "id": "2EpkftUIMVXa"
      },
      "source": [
        "##6. Inserting bias term"
      ]
    },
    {
      "cell_type": "code",
      "metadata": {
        "id": "vGz0o9W_MPMn"
      },
      "source": [
        "X.insert(0, 'Bias', 1)"
      ],
      "execution_count": null,
      "outputs": []
    },
    {
      "cell_type": "code",
      "metadata": {
        "id": "gnKuW_zq_Jod",
        "colab": {
          "base_uri": "https://localhost:8080/",
          "height": 195
        },
        "outputId": "13f6df86-4b58-4ca8-8698-8d66bf3dea56"
      },
      "source": [
        "X.head()"
      ],
      "execution_count": null,
      "outputs": [
        {
          "output_type": "execute_result",
          "data": {
            "text/html": [
              "<div>\n",
              "<style scoped>\n",
              "    .dataframe tbody tr th:only-of-type {\n",
              "        vertical-align: middle;\n",
              "    }\n",
              "\n",
              "    .dataframe tbody tr th {\n",
              "        vertical-align: top;\n",
              "    }\n",
              "\n",
              "    .dataframe thead th {\n",
              "        text-align: right;\n",
              "    }\n",
              "</style>\n",
              "<table border=\"1\" class=\"dataframe\">\n",
              "  <thead>\n",
              "    <tr style=\"text-align: right;\">\n",
              "      <th></th>\n",
              "      <th>Bias</th>\n",
              "      <th>Species</th>\n",
              "      <th>Length1</th>\n",
              "      <th>Length2</th>\n",
              "      <th>Length3</th>\n",
              "      <th>Height</th>\n",
              "      <th>Width</th>\n",
              "    </tr>\n",
              "  </thead>\n",
              "  <tbody>\n",
              "    <tr>\n",
              "      <th>0</th>\n",
              "      <td>1</td>\n",
              "      <td>-0.377358</td>\n",
              "      <td>-0.059168</td>\n",
              "      <td>-0.054831</td>\n",
              "      <td>-0.020727</td>\n",
              "      <td>0.147952</td>\n",
              "      <td>-0.056028</td>\n",
              "    </tr>\n",
              "    <tr>\n",
              "      <th>1</th>\n",
              "      <td>1</td>\n",
              "      <td>-0.377358</td>\n",
              "      <td>-0.043634</td>\n",
              "      <td>-0.038468</td>\n",
              "      <td>-0.000457</td>\n",
              "      <td>0.203673</td>\n",
              "      <td>-0.015771</td>\n",
              "    </tr>\n",
              "    <tr>\n",
              "      <th>2</th>\n",
              "      <td>1</td>\n",
              "      <td>-0.377358</td>\n",
              "      <td>-0.045576</td>\n",
              "      <td>-0.034831</td>\n",
              "      <td>-0.002146</td>\n",
              "      <td>0.197741</td>\n",
              "      <td>0.039272</td>\n",
              "    </tr>\n",
              "    <tr>\n",
              "      <th>3</th>\n",
              "      <td>1</td>\n",
              "      <td>-0.377358</td>\n",
              "      <td>0.001026</td>\n",
              "      <td>0.010623</td>\n",
              "      <td>0.038395</td>\n",
              "      <td>0.218184</td>\n",
              "      <td>0.005358</td>\n",
              "    </tr>\n",
              "    <tr>\n",
              "      <th>4</th>\n",
              "      <td>1</td>\n",
              "      <td>-0.377358</td>\n",
              "      <td>0.004909</td>\n",
              "      <td>0.010623</td>\n",
              "      <td>0.046840</td>\n",
              "      <td>0.201584</td>\n",
              "      <td>0.100997</td>\n",
              "    </tr>\n",
              "  </tbody>\n",
              "</table>\n",
              "</div>"
            ],
            "text/plain": [
              "   Bias   Species   Length1   Length2   Length3    Height     Width\n",
              "0     1 -0.377358 -0.059168 -0.054831 -0.020727  0.147952 -0.056028\n",
              "1     1 -0.377358 -0.043634 -0.038468 -0.000457  0.203673 -0.015771\n",
              "2     1 -0.377358 -0.045576 -0.034831 -0.002146  0.197741  0.039272\n",
              "3     1 -0.377358  0.001026  0.010623  0.038395  0.218184  0.005358\n",
              "4     1 -0.377358  0.004909  0.010623  0.046840  0.201584  0.100997"
            ]
          },
          "metadata": {
            "tags": []
          },
          "execution_count": 39
        }
      ]
    },
    {
      "cell_type": "code",
      "metadata": {
        "id": "novoIIY-ghvj",
        "colab": {
          "base_uri": "https://localhost:8080/",
          "height": 195
        },
        "outputId": "28292a4b-7041-482a-964d-e19d327c44ff"
      },
      "source": [
        "X.tail()"
      ],
      "execution_count": null,
      "outputs": [
        {
          "output_type": "execute_result",
          "data": {
            "text/html": [
              "<div>\n",
              "<style scoped>\n",
              "    .dataframe tbody tr th:only-of-type {\n",
              "        vertical-align: middle;\n",
              "    }\n",
              "\n",
              "    .dataframe tbody tr th {\n",
              "        vertical-align: top;\n",
              "    }\n",
              "\n",
              "    .dataframe thead th {\n",
              "        text-align: right;\n",
              "    }\n",
              "</style>\n",
              "<table border=\"1\" class=\"dataframe\">\n",
              "  <thead>\n",
              "    <tr style=\"text-align: right;\">\n",
              "      <th></th>\n",
              "      <th>Bias</th>\n",
              "      <th>Species</th>\n",
              "      <th>Length1</th>\n",
              "      <th>Length2</th>\n",
              "      <th>Length3</th>\n",
              "      <th>Height</th>\n",
              "      <th>Width</th>\n",
              "    </tr>\n",
              "  </thead>\n",
              "  <tbody>\n",
              "    <tr>\n",
              "      <th>154</th>\n",
              "      <td>1</td>\n",
              "      <td>0.455975</td>\n",
              "      <td>-0.286353</td>\n",
              "      <td>-0.294831</td>\n",
              "      <td>-0.301133</td>\n",
              "      <td>-0.399370</td>\n",
              "      <td>-0.426236</td>\n",
              "    </tr>\n",
              "    <tr>\n",
              "      <th>155</th>\n",
              "      <td>1</td>\n",
              "      <td>0.455975</td>\n",
              "      <td>-0.282469</td>\n",
              "      <td>-0.291195</td>\n",
              "      <td>-0.299443</td>\n",
              "      <td>-0.379659</td>\n",
              "      <td>-0.443799</td>\n",
              "    </tr>\n",
              "    <tr>\n",
              "      <th>156</th>\n",
              "      <td>1</td>\n",
              "      <td>0.455975</td>\n",
              "      <td>-0.274702</td>\n",
              "      <td>-0.280286</td>\n",
              "      <td>-0.294376</td>\n",
              "      <td>-0.388540</td>\n",
              "      <td>-0.445659</td>\n",
              "    </tr>\n",
              "    <tr>\n",
              "      <th>157</th>\n",
              "      <td>1</td>\n",
              "      <td>0.455975</td>\n",
              "      <td>-0.253343</td>\n",
              "      <td>-0.256650</td>\n",
              "      <td>-0.270727</td>\n",
              "      <td>-0.353958</td>\n",
              "      <td>-0.331287</td>\n",
              "    </tr>\n",
              "    <tr>\n",
              "      <th>158</th>\n",
              "      <td>1</td>\n",
              "      <td>0.455975</td>\n",
              "      <td>-0.241693</td>\n",
              "      <td>-0.243922</td>\n",
              "      <td>-0.253835</td>\n",
              "      <td>-0.350510</td>\n",
              "      <td>-0.357787</td>\n",
              "    </tr>\n",
              "  </tbody>\n",
              "</table>\n",
              "</div>"
            ],
            "text/plain": [
              "     Bias   Species   Length1   Length2   Length3    Height     Width\n",
              "154     1  0.455975 -0.286353 -0.294831 -0.301133 -0.399370 -0.426236\n",
              "155     1  0.455975 -0.282469 -0.291195 -0.299443 -0.379659 -0.443799\n",
              "156     1  0.455975 -0.274702 -0.280286 -0.294376 -0.388540 -0.445659\n",
              "157     1  0.455975 -0.253343 -0.256650 -0.270727 -0.353958 -0.331287\n",
              "158     1  0.455975 -0.241693 -0.243922 -0.253835 -0.350510 -0.357787"
            ]
          },
          "metadata": {
            "tags": []
          },
          "execution_count": 40
        }
      ]
    },
    {
      "cell_type": "code",
      "metadata": {
        "id": "daPrbRmcgXqV",
        "colab": {
          "base_uri": "https://localhost:8080/",
          "height": 195
        },
        "outputId": "5a52fee5-2c83-422d-ddd6-8761b8a5732e"
      },
      "source": [
        "Y.head()"
      ],
      "execution_count": null,
      "outputs": [
        {
          "output_type": "execute_result",
          "data": {
            "text/html": [
              "<div>\n",
              "<style scoped>\n",
              "    .dataframe tbody tr th:only-of-type {\n",
              "        vertical-align: middle;\n",
              "    }\n",
              "\n",
              "    .dataframe tbody tr th {\n",
              "        vertical-align: top;\n",
              "    }\n",
              "\n",
              "    .dataframe thead th {\n",
              "        text-align: right;\n",
              "    }\n",
              "</style>\n",
              "<table border=\"1\" class=\"dataframe\">\n",
              "  <thead>\n",
              "    <tr style=\"text-align: right;\">\n",
              "      <th></th>\n",
              "      <th>Weight</th>\n",
              "    </tr>\n",
              "  </thead>\n",
              "  <tbody>\n",
              "    <tr>\n",
              "      <th>0</th>\n",
              "      <td>-0.094743</td>\n",
              "    </tr>\n",
              "    <tr>\n",
              "      <th>1</th>\n",
              "      <td>-0.065652</td>\n",
              "    </tr>\n",
              "    <tr>\n",
              "      <th>2</th>\n",
              "      <td>-0.035349</td>\n",
              "    </tr>\n",
              "    <tr>\n",
              "      <th>3</th>\n",
              "      <td>-0.021410</td>\n",
              "    </tr>\n",
              "    <tr>\n",
              "      <th>4</th>\n",
              "      <td>0.019196</td>\n",
              "    </tr>\n",
              "  </tbody>\n",
              "</table>\n",
              "</div>"
            ],
            "text/plain": [
              "     Weight\n",
              "0 -0.094743\n",
              "1 -0.065652\n",
              "2 -0.035349\n",
              "3 -0.021410\n",
              "4  0.019196"
            ]
          },
          "metadata": {
            "tags": []
          },
          "execution_count": 41
        }
      ]
    },
    {
      "cell_type": "code",
      "metadata": {
        "id": "gUWEz3Gy_LB1",
        "colab": {
          "base_uri": "https://localhost:8080/",
          "height": 34
        },
        "outputId": "0acc34ad-350b-4fa9-8873-858d6d0c9a20"
      },
      "source": [
        "X.shape, Y.shape"
      ],
      "execution_count": null,
      "outputs": [
        {
          "output_type": "execute_result",
          "data": {
            "text/plain": [
              "((159, 7), (159, 1))"
            ]
          },
          "metadata": {
            "tags": []
          },
          "execution_count": 42
        }
      ]
    },
    {
      "cell_type": "markdown",
      "metadata": {
        "id": "2Fd5tCkiEm9H"
      },
      "source": [
        "##7. Splitting the data into training and test data"
      ]
    },
    {
      "cell_type": "code",
      "metadata": {
        "id": "9nSi2B0REmdS"
      },
      "source": [
        "from sklearn.model_selection import train_test_split\n",
        "X_train, X_test, Y_train, Y_test = train_test_split(X, Y, test_size = 0.25)"
      ],
      "execution_count": null,
      "outputs": []
    },
    {
      "cell_type": "code",
      "metadata": {
        "id": "QYKCtQDd_PN9"
      },
      "source": [
        "X_train = np.matrix(X_train)\n",
        "Y_train = np.matrix(Y_train)"
      ],
      "execution_count": null,
      "outputs": []
    },
    {
      "cell_type": "code",
      "metadata": {
        "id": "35BEHXcoIF7K"
      },
      "source": [
        "theta = np.matrix(np.zeros(7))"
      ],
      "execution_count": null,
      "outputs": []
    },
    {
      "cell_type": "code",
      "metadata": {
        "id": "WzcnWLM4IUsU",
        "colab": {
          "base_uri": "https://localhost:8080/",
          "height": 34
        },
        "outputId": "79f55ebe-588e-4a3f-b00e-9c979fd03f3f"
      },
      "source": [
        "theta.shape, X_train.shape, X_test.shape, Y_train.shape, Y_test.shape"
      ],
      "execution_count": null,
      "outputs": [
        {
          "output_type": "execute_result",
          "data": {
            "text/plain": [
              "((1, 7), (119, 7), (40, 7), (119, 1), (40, 1))"
            ]
          },
          "metadata": {
            "tags": []
          },
          "execution_count": 46
        }
      ]
    },
    {
      "cell_type": "markdown",
      "metadata": {
        "id": "nD-wKzLUIyog"
      },
      "source": [
        "##8. Defining Cost function and Gradient Descent function"
      ]
    },
    {
      "cell_type": "code",
      "metadata": {
        "id": "QzyghcCVIplz"
      },
      "source": [
        "def ComputeError(x, y, theta):\n",
        "    inner = np.power((x * theta.T - y),2)\n",
        "    return np.sum(inner)/(2 * len(x))"
      ],
      "execution_count": null,
      "outputs": []
    },
    {
      "cell_type": "code",
      "metadata": {
        "id": "_2JWfwDXVL5y",
        "colab": {
          "base_uri": "https://localhost:8080/",
          "height": 34
        },
        "outputId": "04a9f2d6-a38c-4043-c1f3-fff31b45b004"
      },
      "source": [
        "ComputeError(X_train, Y_train, theta)"
      ],
      "execution_count": null,
      "outputs": [
        {
          "output_type": "execute_result",
          "data": {
            "text/plain": [
              "0.02407492415224953"
            ]
          },
          "metadata": {
            "tags": []
          },
          "execution_count": 48
        }
      ]
    },
    {
      "cell_type": "code",
      "metadata": {
        "id": "FhRQPutsVUlY"
      },
      "source": [
        "learn_rate = 0.01\n",
        "iters = 50000\n",
        "def gradientDescent(x, y, theta, learn_rate,iters):\n",
        "    temp = np.matrix(np.zeros(theta.shape)) # creating temp matrx to update the value of theta\n",
        "    parameters = theta.shape[1] # number of parameters\n",
        "    cost = [] #list to track the cost at all iters\n",
        "\n",
        "    for i in range(iters):\n",
        "        error = (x * theta.T)-y\n",
        "\n",
        "        for j in range(parameters): #update the value of theta\n",
        "            gradient = np.multiply(error, x[:,j])\n",
        "            temp[0,j] = theta[0,j] - ((learn_rate/len(x)) * np.sum(gradient)) #assigned to temp matrix\n",
        "        \n",
        "        theta = temp #simultaneously update all the values of theta\n",
        "        \n",
        "        cost_iter = ComputeError(x,y,theta) #find the cost for the iteration\n",
        "\n",
        "        cost.append(cost_iter)\n",
        "    \n",
        "    return theta,cost"
      ],
      "execution_count": null,
      "outputs": []
    },
    {
      "cell_type": "code",
      "metadata": {
        "id": "fb75YkeIDKQn"
      },
      "source": [
        "new_theta,cost = gradientDescent(X_train,Y_train,theta,learn_rate,iters)"
      ],
      "execution_count": null,
      "outputs": []
    },
    {
      "cell_type": "markdown",
      "metadata": {
        "id": "KUpkhOR4EWkO"
      },
      "source": [
        "##9. Plot the cost and number of iterations"
      ]
    },
    {
      "cell_type": "code",
      "metadata": {
        "id": "kBVclP-EEdu4",
        "colab": {
          "base_uri": "https://localhost:8080/",
          "height": 546
        },
        "outputId": "ef5ac786-e3dd-44dd-80f5-c5cfd2bb5096"
      },
      "source": [
        "fig,ax = plt.subplots(figsize=(12,8))\n",
        "ax.plot(np.arange(iters),cost,'g')\n",
        "ax.legend(loc=2)\n",
        "ax.set_xlabel('Iterations')\n",
        "ax.set_ylabel('Cost')\n",
        "ax.set_title('Error Vs Iterations')"
      ],
      "execution_count": null,
      "outputs": [
        {
          "output_type": "stream",
          "text": [
            "No handles with labels found to put in legend.\n"
          ],
          "name": "stderr"
        },
        {
          "output_type": "execute_result",
          "data": {
            "text/plain": [
              "Text(0.5, 1.0, 'Error Vs Iterations')"
            ]
          },
          "metadata": {
            "tags": []
          },
          "execution_count": 62
        },
        {
          "output_type": "display_data",
          "data": {
            "image/png": "[encoded data removed]",
            "text/plain": [
              "<Figure size 864x576 with 1 Axes>"
            ]
          },
          "metadata": {
            "tags": [],
            "needs_background": "light"
          }
        }
      ]
    },
    {
      "cell_type": "markdown",
      "metadata": {
        "id": "SxIsEMqdEp-e"
      },
      "source": [
        "##10. Predicting Training data"
      ]
    },
    {
      "cell_type": "code",
      "metadata": {
        "id": "rHDJpKC4EpRX"
      },
      "source": [
        "Train_model_price = X_train * new_theta.T # predicting training data"
      ],
      "execution_count": null,
      "outputs": []
    },
    {
      "cell_type": "markdown",
      "metadata": {
        "id": "fmknUQY9E2ZK"
      },
      "source": [
        "##11. Predicting Test data"
      ]
    },
    {
      "cell_type": "code",
      "metadata": {
        "id": "Vy1DHEdcE83B"
      },
      "source": [
        "X_test = np.matrix(X_test)\n",
        "Y_test = np.matrix(Y_test)\n",
        "Test_model_price = X_test * new_theta.T"
      ],
      "execution_count": null,
      "outputs": []
    },
    {
      "cell_type": "markdown",
      "metadata": {
        "id": "5aVcFGybFJcM"
      },
      "source": [
        "## 12. Computation of error and Accuracy - Training Error"
      ]
    },
    {
      "cell_type": "code",
      "metadata": {
        "id": "EuognHYMFIuo",
        "colab": {
          "base_uri": "https://localhost:8080/",
          "height": 50
        },
        "outputId": "37335a0f-56b8-4b61-b0e1-aec7c2e125cb"
      },
      "source": [
        "from sklearn.metrics import mean_absolute_error\n",
        "\n",
        "Train_Error = mean_absolute_error(Train_model_price,Y_train)\n",
        "Train_Accuracy = 1 - Train_Error\n",
        "\n",
        "print('Train Error = {} %'.format((round(Train_Error*100,2))))\n",
        "print('Train Accuracy = {} %'.format((round(Train_Accuracy*100,2))))"
      ],
      "execution_count": null,
      "outputs": [
        {
          "output_type": "stream",
          "text": [
            "Train Error = 5.46 %\n",
            "Train Accuracy = 94.54 %\n"
          ],
          "name": "stdout"
        }
      ]
    },
    {
      "cell_type": "markdown",
      "metadata": {
        "id": "NJQcdwdQFW72"
      },
      "source": [
        "##13. Computation of error and Accuracy - Test Error"
      ]
    },
    {
      "cell_type": "code",
      "metadata": {
        "id": "_5YbAWW_FD2H",
        "colab": {
          "base_uri": "https://localhost:8080/",
          "height": 50
        },
        "outputId": "dbc7463d-6c55-4758-bddc-9a948f46c651"
      },
      "source": [
        "from sklearn.metrics import mean_absolute_error\n",
        "\n",
        "Test_Error = mean_absolute_error(Test_model_price,Y_test)\n",
        "Test_Accuracy = 1 - Test_Error\n",
        "\n",
        "print('Test Error = {} %'.format((round(Test_Error*100,2))))\n",
        "print('Test Accuracy = {} %'.format((round(Test_Accuracy*100,2))))"
      ],
      "execution_count": null,
      "outputs": [
        {
          "output_type": "stream",
          "text": [
            "Test Error = 5.83 %\n",
            "Test Accuracy = 94.17 %\n"
          ],
          "name": "stdout"
        }
      ]
    }
  ]
}